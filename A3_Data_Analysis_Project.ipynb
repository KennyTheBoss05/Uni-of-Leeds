{
 "cells": [
  {
   "cell_type": "markdown",
   "metadata": {},
   "source": [
    "## COMP5721M: Programming for Data Science \n",
    "\n",
    "## Coursework 3: Data Analysis Project\n",
    "\n",
    "Last modified: 31 August 2023\n",
    "\n",
    "\n",
    "# _Project Title_\n",
    "\n",
    "\n",
    "_Give names and emails of group members here:_\n",
    "\n",
    "* _NameA_, _usernameA_@leeds.ac.uk\n",
    "* _NameB_, _usernameB_@leeds.ac.uk\n",
    "* _NameC_, _usernameC_@leeds.ac.uk\n",
    "* _NameD_, _usernameD_@leeds.ac.uk"
   ]
  },
  {
   "cell_type": "markdown",
   "metadata": {},
   "source": [
    "# Project Requirements\n",
    "_PLEASE DELETE THIS WHOLE CELL BEFORE SUBMITTING YOUR PROJECT_\n",
    "\n",
    "The purpose of this assignment is to develop your skills\n",
    "in organising and presenting a Data Science project.\n",
    "\n",
    "Since most of the marks will be awarded for organisation\n",
    "and presentation, it is suggested that you do not initially attempt\n",
    "anything too complicated. However, once you have managed\n",
    "to get a basic pipeline working that fits the guidelines, \n",
    "you are encouraged to extend and elaborate your analysis.\n",
    "\n",
    "Your project should entirely be contained within this template file.\n",
    "You should keep the basic structure indicated below. To facilitate\n",
    "grading according to the marking scheme.\n",
    "\n",
    "You _may_ import any module that is provided with Anaconda3 Python.\n",
    "\n",
    "\n",
    "### Marking Scheme\n",
    "\n",
    "The marking scheme  is as follows:\n",
    "\n",
    "* Project Plan:\n",
    "    * Description of data to be used (10)\n",
    "    * Overview of Project Aims  (5)\n",
    "    * Design  (5)\n",
    "    \n",
    "* Program Code: (15)<br>\n",
    "    Code should be laid out in steps with explanations\n",
    "    and intermediate output with comments. \n",
    "    You should ensure that the steps do not require\n",
    "    a large amount of processing time.\n",
    "\n",
    "* Project Outcome:\n",
    "    * Explanation of Results (10)<br>\n",
    "        This should include a qualitative description\n",
    "        of the results as well as key figures and tables\n",
    "        of results.\n",
    "    * Results visualisation (10)<br>\n",
    "        This should be graphical representations of the\n",
    "        results with brief explanations (ordinary tables will be\n",
    "        graded as part of the explanation of results)\n",
    "    * Conclusion (5)\n",
    "\n",
    "### Data Resources\n",
    "\n",
    "You can use any data you like. Many useful resources are available.\n",
    "\n",
    "The Data Resources section of the module (Unit 4.3 on Minerva) has links to several example data sets.\n",
    "\n",
    "As a starting point you could browse the following:\n",
    "* [Kaggle](https://www.kaggle.com/)\n",
    "* [Our World in Data](https://ourworldindata.org/)\n",
    "* [scikit-learn datasets](https://scikit-learn.org/stable/datasets.html)\n",
    "* [scikit-learn tutorial](https://scikit-learn.org/stable/tutorial/basic/tutorial.html)\n",
    "\n",
    "\n",
    "\n",
    "\n",
    "### Using this Notebook Template\n",
    "Please use this notebook as a template for your project file.\n",
    "In the following cells of the notebook, _italic text_ giving explanations\n",
    "and examples should be either deleted, or, in most cases, replaced by appropriate text describing your project. \n",
    "Text that is not in italic (which is mostly headings) should\n",
    "be left as it is. __Your project report notebook should the same overall\n",
    "structure as this template notebook.__\n",
    "An exception to this is the current markup cell describing the project\n",
    "requiements. You should delete this before submitting your notebook."
   ]
  },
  {
   "cell_type": "markdown",
   "metadata": {},
   "source": [
    "# Project Plan\n",
    "\n",
    "## The Data (10 marks)\n",
    "\n",
    "_Here you should describe the data indluding details of:\n",
    "where it comes from, what data it contains, is it accurate. (Potentially you could create data from a simulation but you should still explain why and how you intend to generate this data.)_\n",
    "\n",
    "_It can be just one dataset or several that can be combined\n",
    "somehow._\n",
    "\n",
    "_There are 10 marks for this, so a fairly detailed description\n",
    "of the data is expected (around 300-400 words)_\n",
    "\n",
    "\n",
    "\n",
    "## Project Aim and Objectives (5 marks)\n",
    "\n",
    "_Here you should describe the general aim of your project in\n",
    "around 200-300 words._\n",
    "\n",
    "_This can can be anything from classifying items according to\n",
    "their characteristic features (which mushrooms are poisonous?) \n",
    "to simulating an evolving process (will the rabbits eat all\n",
    "the carrots or get eaten by the foxes?)_\n",
    "\n",
    "_Here some ideas of general types of processing functionality\n",
    "that you could implement:_\n",
    "\n",
    "* _Classification: separate data items into classes according\n",
    "  to their charactersitics (can be either a definite or a\n",
    "  statistical kind of classification)_\n",
    "* _Corellation: find correspondences between different attributes within\n",
    "  a dataset_\n",
    "* _Search: find solutions matching some criteria_\n",
    "* _Visualisation: find informative ways to\n",
    "  display the structure of a large and/or complex dataset_\n",
    "* _Query Answering: create a system that enables one to retrieve information by evaluating some form of query representation_\n",
    "* _Simulation: model the evolution of a complex process_\n",
    "\n",
    "### Specific Objective(s)\n",
    "\n",
    "_You should chose and list __up to 4__ specific objectives suited to the data you will be working with and the type of project you wish to carry out. \n",
    "There should be <b>at least one\n",
    "per person doing the project</b>. There is no need\n",
    "for  the objectives them to be completely different. \n",
    "They could be different\n",
    "stages of the processing requirements, or different processing\n",
    "functions that the system  provides. Or just\n",
    "different aspects of data analysis that will be conducted.\n",
    "Typically, it is expected that there would be one objective\n",
    "per person. Replace the following examples with your own objectives:_\n",
    "\n",
    "* __Objective 1:__ _create a Python datastructure that will ensure world peace_\n",
    "* __Objective 2:__ _stop global warming using a pandas dataframe_\n",
    "* __Objective 3:__ _end poverty using matplotlib_\n",
    "* __Objective 4:__ _end suffering with sklearn_\n",
    "\n",
    "## System Design (5 marks)\n",
    "\n",
    "_Describe your code in terms of the\n",
    "following two sections._\n",
    "\n",
    "### Architecture\n",
    "\n",
    "_Typically this would be  a pipeline in which data goes through several\n",
    "stages of transformation and analysis, but other architectures are possible.\n",
    "This does not need to be particularly complicated. A simple diagram with\n",
    "100-150 words of explanation would\n",
    "be a good way to present your architecture._\n",
    "  \n",
    "### Processing Modules and Algorithms\n",
    "\n",
    "_Briefly list and describe the most significant computational components of your system and the algorithms you will use to implement them. \n",
    "This could include things like:_\n",
    "\n",
    "* _cleaning the data by removing outliers_\n",
    "* _combining different datasets_\n",
    "* _converting samples to a special representaion (such as feature vectors)_\n",
    "* _constructing a special data-structure (such as a decision tree)_\n",
    "* _running some kind of analysis_\n",
    "\n",
    "_Your list can be presented in similar form to the one just given, \n",
    "but should include a brief\n",
    "but more specific description of the components and/or algorithms.\n",
    "Probably three or four components is sufficient for most projects, but\n",
    "you may want to have more._"
   ]
  },
  {
   "cell_type": "markdown",
   "metadata": {},
   "source": [
    "# Program Code (15 marks)\n",
    "\n",
    "_Your code should be divided into relatively short cells, with brief\n",
    "explanation in markup cells between._\n",
    "\n",
    "_As noted in the assigment overview, it is not necessary that your coding be\n",
    "super complex in order to get a good mark. Although there is a mark for\n",
    "the coding achievement, it is only a quarter of the total._\n",
    "\n",
    "_The suggested length of the code is about 150 lines for 1 person or 500\n",
    "for a 4 peope project. You should not use more than 500 lines of code._\n",
    "\n",
    "_You should divide the code in accordance with the specification of modules and/or\n",
    "algorithms you gave in the previous section. Complex modules should be further\n",
    "divided into several code cells._\n",
    "\n",
    "Please note the following about your code:\n",
    "* <b><i>You may import any packages/modules you wish to use for your project.</i></b>\n",
    "\n",
    "\n",
    "* <b><i>You should submit your notebook in a state where all cells have been\n",
    "    executed and are displaying the output that you wish to present for grading.</i></b>\n",
    "    (We will not normally run your code, unless for some reason we wish to check\n",
    "    that the code functionality matches the given description.)\n",
    "    \n",
    "    \n",
    "* Although you may be programming in a \"pipeline\" style, it is strongly suggested you use function definitions to organise your code. As well as being generally good programming practice, it will be helpful for easy and flexibily presentation of results visualisations later in the document. In the visualisation sections you will be able to produce images in a concise and flexible way by calling functions defined in the program code secion."
   ]
  },
  {
   "cell_type": "markdown",
   "metadata": {},
   "source": [
    "#### _Brief Explanation of following code cell_\n",
    "\n",
    "_Below is a silly example of some trivial data. Replace this markup cell and the one below with something more interesting. And go on adding more until you have \n",
    "achieved your objectives (at least to some extent)._"
   ]
  },
  {
   "cell_type": "code",
   "execution_count": 1,
   "metadata": {},
   "outputs": [
    {
     "name": "stdout",
     "output_type": "stream",
     "text": [
      "The total number of fridge magnets is: 66\n"
     ]
    }
   ],
   "source": [
    "## Code Cell\n",
    "## This will typically consist of:\n",
    "\n",
    "## (a) Code doing some data manipulation:\n",
    "\n",
    "fm_data = { \"souvenir\"     :  9,\n",
    "            \"cute animal\"  :  5,\n",
    "            \"meme\"         : 36,\n",
    "            \"smiley\"       :  3,\n",
    "            \"random image\" : 13\n",
    "          }\n",
    "total = sum([fm_data[f] for f in fm_data])\n",
    "\n",
    "## (b) Code for displaying some output:\n",
    "\n",
    "print(\"The total number of fridge magnets is:\", total)"
   ]
  },
  {
   "cell_type": "markdown",
   "metadata": {},
   "source": [
    "#### _Comment on previous cell output (optional)_\n",
    "\n",
    "_As well as describing code, it will in many cases be informative to describe the output\n",
    "that has been generated by a cell._\n",
    "\n",
    "_The previous output cell shows a key number in our fridge magnet analysis._"
   ]
  },
  {
   "cell_type": "markdown",
   "metadata": {},
   "source": [
    "#### _Brief Explanation of following code cell_\n",
    "\n",
    "_Since fridge magnets often take the form of cute animals, we use `pandas` to convert the raw data into a `DataFrame`._"
   ]
  },
  {
   "cell_type": "code",
   "execution_count": 30,
   "metadata": {},
   "outputs": [
    {
     "data": {
      "text/html": [
       "<div>\n",
       "<style scoped>\n",
       "    .dataframe tbody tr th:only-of-type {\n",
       "        vertical-align: middle;\n",
       "    }\n",
       "\n",
       "    .dataframe tbody tr th {\n",
       "        vertical-align: top;\n",
       "    }\n",
       "\n",
       "    .dataframe thead th {\n",
       "        text-align: right;\n",
       "    }\n",
       "</style>\n",
       "<table border=\"1\" class=\"dataframe\">\n",
       "  <thead>\n",
       "    <tr style=\"text-align: right;\">\n",
       "      <th></th>\n",
       "      <th>0</th>\n",
       "    </tr>\n",
       "  </thead>\n",
       "  <tbody>\n",
       "    <tr>\n",
       "      <th>souvenir</th>\n",
       "      <td>9</td>\n",
       "    </tr>\n",
       "    <tr>\n",
       "      <th>cute animal</th>\n",
       "      <td>5</td>\n",
       "    </tr>\n",
       "    <tr>\n",
       "      <th>meme</th>\n",
       "      <td>36</td>\n",
       "    </tr>\n",
       "    <tr>\n",
       "      <th>smiley</th>\n",
       "      <td>3</td>\n",
       "    </tr>\n",
       "    <tr>\n",
       "      <th>random image</th>\n",
       "      <td>13</td>\n",
       "    </tr>\n",
       "  </tbody>\n",
       "</table>\n",
       "</div>"
      ],
      "text/plain": [
       "               0\n",
       "souvenir       9\n",
       "cute animal    5\n",
       "meme          36\n",
       "smiley         3\n",
       "random image  13"
      ]
     },
     "execution_count": 30,
     "metadata": {},
     "output_type": "execute_result"
    }
   ],
   "source": [
    "## Code Cell\n",
    "import pandas\n",
    "df = pandas.DataFrame.from_dict(fm_data, orient='index')\n",
    "df"
   ]
  },
  {
   "cell_type": "markdown",
   "metadata": {},
   "source": [
    "#### _Comment on previous cell output (optional)_\n",
    "_The output from the previous cell is very interesting._"
   ]
  },
  {
   "cell_type": "markdown",
   "metadata": {},
   "source": [
    "_The following cell defines a visualisation function for the data._"
   ]
  },
  {
   "cell_type": "code",
   "execution_count": 31,
   "metadata": {},
   "outputs": [],
   "source": [
    "def fridge_sorted_bar(color='blue'):\n",
    "    df.sort_values(0).plot.bar( color=color)   "
   ]
  },
  {
   "cell_type": "markdown",
   "metadata": {},
   "source": [
    "###  _More code cells_\n",
    "_You can add as many code cells as you require, but it is\n",
    "recommended that you break code into relatively small chunks and\n",
    "do not exceed the maximum number of lines stated above._"
   ]
  },
  {
   "cell_type": "markdown",
   "metadata": {},
   "source": [
    "# Project Outcome (10 + 10 marks)\n",
    "\n",
    "_This section should describe the outcome of the project by means of both explanation of the results and by graphical visualisation in the form of graphs, charts or or other kinds of diagram_\n",
    "\n",
    "_The section should begin with a general overview of the results and then have a section for each of the project objectives. For each of these objectives an explanation of more specific results relating to that objective shoud be given, followed by a section presenting some visualisation of the results obtained. (In the case where\n",
    "the project had just one objective, you should still have a section describing\n",
    "the results from a general perspective followed by a section that focuses on\n",
    "the particular objective.)_\n",
    "\n",
    "_The marks for this section will be divided into 10 marks for Explanation\n",
    "and 10 marks for Visualisation. These marks will be awarded for the Project Outcome\n",
    "section as a whole, not for each objective individually. Hence, you do not\n",
    "have to pay equal attention to each. However, you are expected to have a\n",
    "some explanation and visualisation for each. It is suggested you have\n",
    "200-400 words explanation for each objective._"
   ]
  },
  {
   "cell_type": "markdown",
   "metadata": {
    "slideshow": {
     "slide_type": "fragment"
    }
   },
   "source": [
    "## Overview of Results\n",
    "_Give a general overview of the results (around 200 words)._"
   ]
  },
  {
   "cell_type": "markdown",
   "metadata": {},
   "source": [
    "## Objective 1\n",
    "\n",
    "### Explanation of Results\n",
    "\n",
    "_200-400 words_\n",
    "\n",
    "### Visualisation\n",
    "_The following bar chart gives a vivid representation of the distribution\n",
    "of fridge magnet types, in which the dominance of 'meme' type magnets\n",
    "is dramatically illustrated._"
   ]
  },
  {
   "cell_type": "code",
   "execution_count": 32,
   "metadata": {},
   "outputs": [
    {
     "data": {
      "image/png": "[encoded data removed]",
      "text/plain": [
       "<Figure size 432x288 with 1 Axes>"
      ]
     },
     "metadata": {
      "needs_background": "light"
     },
     "output_type": "display_data"
    }
   ],
   "source": [
    "fridge_sorted_bar(color='red')"
   ]
  },
  {
   "cell_type": "markdown",
   "metadata": {},
   "source": [
    "## Objective 2\n",
    "### Explanation of Results\n",
    "\n",
    "200-400 Words\n",
    "\n",
    "### Visualisation"
   ]
  },
  {
   "cell_type": "markdown",
   "metadata": {},
   "source": [
    "## Objective 3\n",
    "### Explanation of Results\n",
    "\n",
    "200-400 Words\n",
    "\n",
    "### Visualisation"
   ]
  },
  {
   "cell_type": "markdown",
   "metadata": {},
   "source": [
    "## Objective 4 \n",
    "### Explanation of Results\n",
    "\n",
    "200-400 Words\n",
    "\n",
    "### Visualisation"
   ]
  },
  {
   "cell_type": "markdown",
   "metadata": {},
   "source": [
    "# Conclusion (5 marks)\n",
    "\n",
    "_Your concluding section should be around 200-400 words. It is recommended\n",
    "that you divide it into the following sections._\n",
    "\n",
    "### Achievements\n",
    "_As we had expected, the most popular fridge magnets were of the 'meme' kind.\n",
    "We were surprised that 'smiley' fridge magnets were less common than expected.\n",
    "We conjecture that this is because, although they are apparently very popular,\n",
    "few fridges display more than one smiley. However, 'meme' based magnets can\n",
    "be found in large numbers, even on quite small fridges._\n",
    "\n",
    "### Limitations\n",
    "\n",
    "_The project was limited to a small number of fridge magents, which may not be\n",
    "typical of fridges found in the global fridge magnet ecosystem._\n",
    "\n",
    "### Future Work\n",
    "\n",
    "_In future work we would like to obtain more diverse data and study fridge magnets \n",
    "beyond the limited confines of student accomodation. We hypothesise that there\n",
    "could be a link between fridge magnet types and social class and/or educational\n",
    "achievement._"
   ]
  },
  {
   "cell_type": "code",
   "execution_count": null,
   "metadata": {},
   "outputs": [],
   "source": []
  }
 ],
 "metadata": {
  "kernelspec": {
   "display_name": "Python 3 (ipykernel)",
   "language": "python",
   "name": "python3"
  },
  "language_info": {
   "codemirror_mode": {
    "name": "ipython",
    "version": 3
   },
   "file_extension": ".py",
   "mimetype": "text/x-python",
   "name": "python",
   "nbconvert_exporter": "python",
   "pygments_lexer": "ipython3",
   "version": "3.11.5"
  }
 },
 "nbformat": 4,
 "nbformat_minor": 4
}
